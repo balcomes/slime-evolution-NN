{
 "cells": [
  {
   "cell_type": "code",
   "execution_count": 1,
   "metadata": {},
   "outputs": [],
   "source": [
    "%matplotlib inline\n",
    "import numpy as np\n",
    "import matplotlib.pyplot as plt\n",
    "import networkx as nx\n",
    "from numpy import linalg as LA\n",
    "import imageio\n",
    "import moviepy\n",
    "import random\n",
    "import time\n",
    "from itertools import permutations\n",
    "from collections import defaultdict\n",
    "from matplotlib import animation\n",
    "from JSAnimation.IPython_display import display_animation\n",
    "from skimage import img_as_ubyte\n",
    "\n",
    "from sklearn.cluster import DBSCAN\n",
    "from sklearn import metrics\n",
    "from sklearn.datasets.samples_generator import make_blobs\n",
    "from sklearn.preprocessing import StandardScaler"
   ]
  },
  {
   "cell_type": "code",
   "execution_count": 2,
   "metadata": {},
   "outputs": [],
   "source": [
    "def sig_func(x,y):\n",
    "    return(1/(1+np.exp(-(np.dot(x,y)))))"
   ]
  },
  {
   "cell_type": "code",
   "execution_count": 3,
   "metadata": {},
   "outputs": [],
   "source": [
    "def mutate(x,rate):\n",
    "    chosen = np.random.choice(range(0,len(x)),rate,replace=False)\n",
    "    for i in range(0,len(x)):\n",
    "        if i in chosen:\n",
    "            x[i] = float(2*np.random.random(1)-1)\n",
    "    return(x)"
   ]
  },
  {
   "cell_type": "code",
   "execution_count": 4,
   "metadata": {},
   "outputs": [],
   "source": [
    "def intersection(lst1, lst2): \n",
    "    return list(set(lst1) & set(lst2))"
   ]
  },
  {
   "cell_type": "code",
   "execution_count": 5,
   "metadata": {},
   "outputs": [],
   "source": [
    "def extract_tribe(cells, cell_weights, labels, node_n = 225):\n",
    "    db = DBSCAN().fit(cell_weights)\n",
    "    flags = []\n",
    "    for k in labels:\n",
    "        flags = [flags, [j for j, x in enumerate(db.labels_ == k) if x]]\n",
    "    next_cells = cells[flags,:]  \n",
    "    next_weights = cell_weights[flags,:]\n",
    "    return(next_cells, next_weights, db)"
   ]
  },
  {
   "cell_type": "code",
   "execution_count": 6,
   "metadata": {},
   "outputs": [],
   "source": [
    "def slime(x = None,\n",
    "          y = None,\n",
    "          start_pop = 25,\n",
    "          max_age = 100,\n",
    "          fig_size = [5,5],\n",
    "          board_size = 100,\n",
    "          max_hp = 6,\n",
    "          baby_hp = 3,\n",
    "          log = False,\n",
    "          frames=500,\n",
    "          interval=50,\n",
    "          mutation_rate = 20,\n",
    "          willing_wait = 10,\n",
    "          mode='once'):\n",
    "    \n",
    "    global sight\n",
    "    global time_tick\n",
    "    global grow_count\n",
    "    global birth_count\n",
    "    global bump_count\n",
    "    global trends\n",
    "    global cells\n",
    "    global cell_weights\n",
    "    global cell_name\n",
    "    global killed\n",
    "    global border\n",
    "    global last_time\n",
    "    global new_coord\n",
    "    global G\n",
    "    global for_gif\n",
    "    \n",
    "    sight = 9\n",
    "    G = nx.Graph()\n",
    "    time_tick = 0\n",
    "    trends = np.array([0,0,0,0,0,0])\n",
    "    border = round(board_size/3)\n",
    "    last_time = 0\n",
    "    cell_name = 1\n",
    "    new_coord = [[-1,1],\n",
    "                 [0,1],\n",
    "                 [1,1],\n",
    "                 [-1,0],\n",
    "                 [0,0],\n",
    "                 [1,0],\n",
    "                 [-1,-1],\n",
    "                 [0,-1],\n",
    "                 [1,-1]]\n",
    "    \n",
    "    # Build the initial cell list.  NN is built around sight/input of 5, movement/output of 3.\n",
    "    if(x == None):\n",
    "        cells = np.zeros((start_pop,5))\n",
    "        cell_weights = np.zeros((start_pop,(sight*sight*3*3)))\n",
    "        \n",
    "        for cell in range(0,start_pop):\n",
    "            cells[cell,:] = [cell_name,\n",
    "                          np.random.choice(range(border, board_size-border)),\n",
    "                          np.random.choice(range(border, board_size-border)),\n",
    "                          baby_hp,\n",
    "                          1]\n",
    "            cell_weights[cell,:] = 2*np.random.random((sight*sight*3*3))-1\n",
    "            G.add_node(cell)\n",
    "            cell_name += 1\n",
    "            \n",
    "    else:\n",
    "        cells = x\n",
    "        cell_weights = y\n",
    "\n",
    "    # Create the board.\n",
    "    X = np.zeros(shape=(board_size,board_size))\n",
    "    for_gif = X\n",
    "    \n",
    "    # initialization function: plot the background of each frame\n",
    "    def init():\n",
    "        im.set_data(X)\n",
    "        return (im,)\n",
    "    \n",
    "    # Get the coodinates for the input.\n",
    "    L = [0, 0, 1, 1, -1, -1, 2, 2, -2, -2, 3, 3, -3, -3, 4, 4, -4, -4]\n",
    "    keep = [0,0]\n",
    "    \n",
    "    for comb in permutations(L, r=2):\n",
    "        keep = np.vstack((keep, comb))\n",
    "    \n",
    "    # Setup plotting.\n",
    "    fig = plt.figure(figsize=fig_size)\n",
    "    ax = fig.add_axes([0, 0, 1, 1], xticks=[], yticks=[], frameon=False)\n",
    "    im = ax.imshow(X, cmap='hot', interpolation='nearest')\n",
    "    im.set_clim(0, 8)\n",
    "        \n",
    "    def animate(i):\n",
    "        global sight\n",
    "        global time_tick\n",
    "        global grow_count\n",
    "        global birth_count\n",
    "        global bump_count\n",
    "        global trends\n",
    "        global cells\n",
    "        global cell_weights\n",
    "        global cell_name\n",
    "        global total_pop\n",
    "        global killed\n",
    "        global border\n",
    "        global last_time\n",
    "        global new_coord\n",
    "        global G\n",
    "        global for_gif\n",
    "        \n",
    "        grow_count = 0\n",
    "        birth_count = 0\n",
    "        bump_count = 0\n",
    "        \n",
    "        # Saftey net for long runs.\n",
    "        if(last_time > willing_wait):\n",
    "            print(\"Taking too long...\")\n",
    "            return()\n",
    "        \n",
    "        start_time = time.time()\n",
    "        \n",
    "        killed_this_round = np.array([], dtype = int)\n",
    "                \n",
    "        # Take turns through the cell list.\n",
    "        time_tick += 1\n",
    "        im.set_data(animate.X)\n",
    "        \n",
    "        for cell in range(0, len(cells)):\n",
    "            # Input.\n",
    "            test_in = []\n",
    "            for perm in np.mod(cells[cell,1:3] + np.unique(keep,axis=0), board_size):\n",
    "                test_in = np.append(test_in, X[int(perm[0]), int(perm[1])])\n",
    "\n",
    "            # Output.\n",
    "            test_out = sig_func(test_in,cell_weights[cell,:].reshape((sight*sight, 3*3)))\n",
    "            d = test_out.argmin()\n",
    "\n",
    "            # Stay and Grow.\n",
    "            if(d==4):\n",
    "\n",
    "                if(cells[cell,3] < 5):\n",
    "                    cells[cell,3] += 1\n",
    "                    grow_count += 1\n",
    "\n",
    "                    if(log == True):\n",
    "                        print(\"{0} grew to size {1}.\".format(cells[cell,0], cells[cell,3]))\n",
    "\n",
    "                # Handle birth/splitting, don't clear.\n",
    "                if(cells[cell,3] >= max_hp):\n",
    "                    # Half its size.\n",
    "                    cells[cell,3] = baby_hp\n",
    "\n",
    "                    # Give the baby attributes and mutate the NN.\n",
    "                    baby_name = cell_name\n",
    "                    G.add_node(baby_name)\n",
    "                    G.add_edge(cell_name, baby_name)\n",
    "                    cell_name += 1\n",
    "\n",
    "                    a = [baby_name,\n",
    "                         np.random.choice(range(board_size)),\n",
    "                         np.random.choice(range(board_size)),\n",
    "                         baby_hp,\n",
    "                         1]\n",
    "                    b = mutate(cell_weights[cell,:], mutation_rate)\n",
    "                    cells = np.vstack((cells, a)) \n",
    "                    cell_weights = np.vstack((cell_weights, b))\n",
    "                    X[int(cells[cell,1]), int(cells[cell,2])] = abs(sum(b))\n",
    "\n",
    "                    # Get the coodinates for possible baby locations.\n",
    "                    L = [0, 0, 1, 1, -1, -1]\n",
    "                    keep2 = [0,0]\n",
    "\n",
    "                    for comb in permutations(L, r=2):\n",
    "                        keep2 = np.vstack((keep2, comb))\n",
    "\n",
    "                    potential = []\n",
    "                    for perm in np.mod(cells[cell,1:3] + np.unique(keep2,axis=0), board_size):\n",
    "                        potential = np.append(potential, X[int(perm[0]), int(perm[1])])\n",
    "\n",
    "                    clear = []\n",
    "                    for i in potential:\n",
    "\n",
    "                        if(i == 0):\n",
    "                            clear = np.append(clear,i)\n",
    "\n",
    "                    if(len(clear) > 0):\n",
    "                        d = np.random.choice(range(0,len(clear)))\n",
    "\n",
    "                        # Give new coordinate and fill it in.\n",
    "                        destination = np.mod(np.add(cells[int(cell),1:3], new_coord[d]), board_size)\n",
    "                        cells[-1,1:3] = destination\n",
    "                        X[int(destination[0]), int(destination[1])] = abs(sum(cell_weights[cell,:]))\n",
    "\n",
    "                        birth_count += 1\n",
    "\n",
    "                        if(log == True):\n",
    "                            print(\"{0} underwent mitosis.  Gave birth to {1}.\".format(cells[cell,0], baby_name))\n",
    "\n",
    "            # Move.\n",
    "            else:\n",
    "                # If it is clear to move.\n",
    "                destination = np.mod(np.add(cells[cell,1:3].astype(float), new_coord[d]), board_size)\n",
    "\n",
    "                if(X[int(destination[0]), int(destination[1])] == 0):\n",
    "                    # Clear where it was if not splitting.\n",
    "                    last_spot = cells[cell,1:3]\n",
    "                    X[int(last_spot[0]),int(last_spot[1])] = 0         \n",
    "\n",
    "                    # Give new coordinate and fill it in.\n",
    "                    cells[cell,1:3] = destination\n",
    "                    X[int(destination[0]), int(destination[1])] = abs(sum(cell_weights[cell,:]))\n",
    "\n",
    "                else:\n",
    "                    # It gets bumped.    \n",
    "                    x = [i for i, j in enumerate(cells[:,1]) if j == destination[0]]\n",
    "                    y = [i for i, j in enumerate(cells[:,2]) if j == destination[1]]\n",
    "                    z = intersection(x,y)\n",
    "\n",
    "                    if(len(z) == 1):\n",
    "\n",
    "                        eff = 0.9\n",
    "                        rat = np.log(cells[z,4]/cells[cell,4])/10\n",
    "\n",
    "                        if(cells[cell,3] > cells[z,3]):\n",
    "                            cells[cell,3] += np.round(3*eff+rat)\n",
    "                            cells[z,3] -= np.round(3+rat)\n",
    "\n",
    "                        if(cells[cell,3] == cells[z,3]):\n",
    "                            cells[cell,3] += np.round(1*eff+rat)\n",
    "                            cells[z,3] -= np.round(1+rat)\n",
    "\n",
    "                        if(cells[cell,3] < cells[z,3]):\n",
    "                            cells[cell,3] -= np.round(2*eff-rat)\n",
    "                            cells[z,3] += np.round(2-rat)  \n",
    "\n",
    "                        bump_count += 1\n",
    "\n",
    "                        if(log == True):\n",
    "                            print(\"{0} was injured to size {1}!\".format(cells[cell,0], cells[cell,3]))\n",
    "\n",
    "                        # Handle death.\n",
    "                        if(cells[cell,3] < 1):\n",
    "                            # Clear where it was and delete from list.\n",
    "                            last_spot = cells[cell,1:3]\n",
    "                            X[int(last_spot[0]),int(last_spot[1])] = 0\n",
    "                            killed_this_round = np.append(killed_this_round,int(cells[cell,0]))\n",
    "\n",
    "                            if(log == True):\n",
    "                                print(\"{0} died!.\".format(cells[cell,0]))\n",
    "\n",
    "                        try:\n",
    "                            if(cells[z,3] < 1):\n",
    "\n",
    "                                # Clear where it was and delete from list.\n",
    "                                last_spot = cells[z,1:3]\n",
    "                                X[int(last_spot[0]),int(last_spot[1])] = 0\n",
    "                                killed_this_round = np.append(killed_this_round,int(cells[z,0]))\n",
    "\n",
    "                                if(log == True):\n",
    "                                    print(\"{0} died!.\".format(cells[z,0]))\n",
    "\n",
    "                        except:\n",
    "                            pass             \n",
    "        \n",
    "        # Kill the elderly\n",
    "        cells[:,4] = np.add(cells[:,4],1)\n",
    "        \n",
    "        for i in range(0,len(cells)):\n",
    "            if(cells[int(i),4] > max_age):\n",
    "                # Blur max age a bit\n",
    "                if(np.random.random() < (cells[int(i),4]-max_age)/max_age):      \n",
    "                    # Clear where it was and delete from list.\n",
    "                    last_spot = cells[cell,1:3]\n",
    "                    X[int(last_spot[0]),int(last_spot[1])] = 0\n",
    "                    killed_this_round = np.append(killed_this_round,int(cells[cell,0]))\n",
    "\n",
    "                    if(log == True):\n",
    "                        print(\"{0} died of old age!.\".format(cells[cell,0]))\n",
    "                    \n",
    "        for i in np.unique(killed_this_round):\n",
    "            j = list(cells[:,0]).index((i))\n",
    "            cells = np.delete(cells, (j), axis=0)\n",
    "            cell_weights = np.delete(cell_weights, (j), axis=0)\n",
    "        \n",
    "        run_pop = len(cells)\n",
    "        death_count = len(np.unique(killed_this_round))\n",
    "            \n",
    "        current = np.array([time_tick, grow_count, birth_count, bump_count, death_count, run_pop])                \n",
    "        trends = np.vstack((trends, current))\n",
    "        \n",
    "        \n",
    "        for_gif = np.concatenate((for_gif, X))\n",
    "        last_time = time.time() - start_time\n",
    "    \n",
    "        return (im,)\n",
    "        \n",
    "    animate.X = X\n",
    "    anim = animation.FuncAnimation(fig, animate, init_func=init, frames=frames, interval=interval, blit=True)\n",
    "    html_result = display_animation(anim, default_mode=mode)\n",
    "    \n",
    "    # Make a little gif\n",
    "    images = []\n",
    "    #normalized = for_gif/(LA.norm(for_gif,axis=0)) \n",
    "    for i in range(0,(frames+1)):\n",
    "        #converted = np.reshape(normalized,((frames+1),board_size,board_size))[int(i),:,:]\n",
    "        #converted = img_as_ubyte(converted)\n",
    "        converted = np.reshape(for_gif,((frames+1),board_size,board_size))[int(i),:,:]\n",
    "        imageio.imwrite('slime.gif', converted)\n",
    "        images.append(imageio.imread('slime.gif'))\n",
    "    imageio.mimsave('slime.gif', images)\n",
    "    \n",
    "    return (html_result, cells, cell_weights, G, trends[1:,:], for_gif)"
   ]
  },
  {
   "cell_type": "code",
   "execution_count": 7,
   "metadata": {
    "scrolled": false
   },
   "outputs": [
    {
     "name": "stderr",
     "output_type": "stream",
     "text": [
      "WARNING:root:Lossy conversion from float64 to uint8. Range [0.0, 42.565859362818564]. Convert image to uint8 prior to saving to suppress this warning.\n",
      "WARNING:root:Lossy conversion from float64 to uint8. Range [0.0, 42.565859362818564]. Convert image to uint8 prior to saving to suppress this warning.\n",
      "WARNING:root:Lossy conversion from float64 to uint8. Range [0.0, 42.565859362818564]. Convert image to uint8 prior to saving to suppress this warning.\n",
      "WARNING:root:Lossy conversion from float64 to uint8. Range [0.0, 42.565859362818564]. Convert image to uint8 prior to saving to suppress this warning.\n",
      "WARNING:root:Lossy conversion from float64 to uint8. Range [0.0, 42.565859362818564]. Convert image to uint8 prior to saving to suppress this warning.\n",
      "WARNING:root:Lossy conversion from float64 to uint8. Range [0.0, 42.565859362818564]. Convert image to uint8 prior to saving to suppress this warning.\n",
      "WARNING:root:Lossy conversion from float64 to uint8. Range [0.0, 42.565859362818564]. Convert image to uint8 prior to saving to suppress this warning.\n",
      "WARNING:root:Lossy conversion from float64 to uint8. Range [0.0, 40.20306181044205]. Convert image to uint8 prior to saving to suppress this warning.\n",
      "WARNING:root:Lossy conversion from float64 to uint8. Range [0.0, 42.565859362818564]. Convert image to uint8 prior to saving to suppress this warning.\n",
      "WARNING:root:Lossy conversion from float64 to uint8. Range [0.0, 42.565859362818564]. Convert image to uint8 prior to saving to suppress this warning.\n",
      "WARNING:root:Lossy conversion from float64 to uint8. Range [0.0, 42.565859362818564]. Convert image to uint8 prior to saving to suppress this warning.\n"
     ]
    },
    {
     "data": {
      "text/html": [
       "\n",
       "<script language=\"javascript\">\n",
       "  /* Define the Animation class */\n",
       "  function Animation(frames, img_id, slider_id, interval, loop_select_id){\n",
       "    this.img_id = img_id;\n",
       "    this.slider_id = slider_id;\n",
       "    this.loop_select_id = loop_select_id;\n",
       "    this.interval = interval;\n",
       "    this.current_frame = 0;\n",
       "    this.direction = 0;\n",
       "    this.timer = null;\n",
       "    this.frames = new Array(frames.length);\n",
       "\n",
       "    for (var i=0; i<frames.length; i++)\n",
       "    {\n",
       "     this.frames[i] = new Image();\n",
       "     this.frames[i].src = frames[i];\n",
       "    }\n",
       "    document.getElementById(this.slider_id).max = this.frames.length - 1;\n",
       "    this.set_frame(this.current_frame);\n",
       "  }\n",
       "\n",
       "  Animation.prototype.get_loop_state = function(){\n",
       "    var button_group = document[this.loop_select_id].state;\n",
       "    for (var i = 0; i < button_group.length; i++) {\n",
       "        var button = button_group[i];\n",
       "        if (button.checked) {\n",
       "            return button.value;\n",
       "        }\n",
       "    }\n",
       "    return undefined;\n",
       "  }\n",
       "\n",
       "  Animation.prototype.set_frame = function(frame){\n",
       "    this.current_frame = frame;\n",
       "    document.getElementById(this.img_id).src = this.frames[this.current_frame].src;\n",
       "    document.getElementById(this.slider_id).value = this.current_frame;\n",
       "  }\n",
       "\n",
       "  Animation.prototype.next_frame = function()\n",
       "  {\n",
       "    this.set_frame(Math.min(this.frames.length - 1, this.current_frame + 1));\n",
       "  }\n",
       "\n",
       "  Animation.prototype.previous_frame = function()\n",
       "  {\n",
       "    this.set_frame(Math.max(0, this.current_frame - 1));\n",
       "  }\n",
       "\n",
       "  Animation.prototype.first_frame = function()\n",
       "  {\n",
       "    this.set_frame(0);\n",
       "  }\n",
       "\n",
       "  Animation.prototype.last_frame = function()\n",
       "  {\n",
       "    this.set_frame(this.frames.length - 1);\n",
       "  }\n",
       "\n",
       "  Animation.prototype.slower = function()\n",
       "  {\n",
       "    this.interval /= 0.7;\n",
       "    if(this.direction > 0){this.play_animation();}\n",
       "    else if(this.direction < 0){this.reverse_animation();}\n",
       "  }\n",
       "\n",
       "  Animation.prototype.faster = function()\n",
       "  {\n",
       "    this.interval *= 0.7;\n",
       "    if(this.direction > 0){this.play_animation();}\n",
       "    else if(this.direction < 0){this.reverse_animation();}\n",
       "  }\n",
       "\n",
       "  Animation.prototype.anim_step_forward = function()\n",
       "  {\n",
       "    this.current_frame += 1;\n",
       "    if(this.current_frame < this.frames.length){\n",
       "      this.set_frame(this.current_frame);\n",
       "    }else{\n",
       "      var loop_state = this.get_loop_state();\n",
       "      if(loop_state == \"loop\"){\n",
       "        this.first_frame();\n",
       "      }else if(loop_state == \"reflect\"){\n",
       "        this.last_frame();\n",
       "        this.reverse_animation();\n",
       "      }else{\n",
       "        this.pause_animation();\n",
       "        this.last_frame();\n",
       "      }\n",
       "    }\n",
       "  }\n",
       "\n",
       "  Animation.prototype.anim_step_reverse = function()\n",
       "  {\n",
       "    this.current_frame -= 1;\n",
       "    if(this.current_frame >= 0){\n",
       "      this.set_frame(this.current_frame);\n",
       "    }else{\n",
       "      var loop_state = this.get_loop_state();\n",
       "      if(loop_state == \"loop\"){\n",
       "        this.last_frame();\n",
       "      }else if(loop_state == \"reflect\"){\n",
       "        this.first_frame();\n",
       "        this.play_animation();\n",
       "      }else{\n",
       "        this.pause_animation();\n",
       "        this.first_frame();\n",
       "      }\n",
       "    }\n",
       "  }\n",
       "\n",
       "  Animation.prototype.pause_animation = function()\n",
       "  {\n",
       "    this.direction = 0;\n",
       "    if (this.timer){\n",
       "      clearInterval(this.timer);\n",
       "      this.timer = null;\n",
       "    }\n",
       "  }\n",
       "\n",
       "  Animation.prototype.play_animation = function()\n",
       "  {\n",
       "    this.pause_animation();\n",
       "    this.direction = 1;\n",
       "    var t = this;\n",
       "    if (!this.timer) this.timer = setInterval(function(){t.anim_step_forward();}, this.interval);\n",
       "  }\n",
       "\n",
       "  Animation.prototype.reverse_animation = function()\n",
       "  {\n",
       "    this.pause_animation();\n",
       "    this.direction = -1;\n",
       "    var t = this;\n",
       "    if (!this.timer) this.timer = setInterval(function(){t.anim_step_reverse();}, this.interval);\n",
       "  }\n",
       "</script>\n",
       "\n",
       "<div class=\"animation\" align=\"center\">\n",
       "    <img id=\"_anim_imgHXWWDGKUTLWCBEII\">\n",
       "    <br>\n",
       "    <input id=\"_anim_sliderHXWWDGKUTLWCBEII\" type=\"range\" style=\"width:350px\" name=\"points\" min=\"0\" max=\"1\" step=\"1\" value=\"0\" onchange=\"animHXWWDGKUTLWCBEII.set_frame(parseInt(this.value));\"></input>\n",
       "    <br>\n",
       "    <button onclick=\"animHXWWDGKUTLWCBEII.slower()\">&#8211;</button>\n",
       "    <button onclick=\"animHXWWDGKUTLWCBEII.first_frame()\"><img class=\"anim_icon\" src=\"data:image/png;base64,iVBORw0KGgoAAAANSUhEUgAAABQAAAAUCAQAAAAngNWGAAAAAXNSR0IArs4c6QAAAAJiS0dEAP+Hj8y/AAAACXBIWXMAAAsTAAALEwEAmpwYAAAAB3RJTUUH3QURCAgaeZk4EQAAASlJREFUKM/dkj9LQnEUhp9zr3bpj1uBcKGiJWxzLWivKAIRjIhcCqcgqJbKRagPICiVSVEuNTu0tLYGUg4tkRGUdxLJ0u79Ndxr5FfwTO/L+xzO4XCgO+v2T70AFU+/A/Dhmlzg6Pr0DKAMwOH4zQxAAbAkv2xNeF2RoQUVc1ytgttXUbWVdN1dOPE8pz4j4APQsdFtKA0WY6vpKjqvVciHnvZTS6Ja4HgggJLs7MHxl9nCh8NYcO+iGG0agiaC4h9oa6Vsw2yiK+QHSZT934YoEQABNBcTNDszsrhm1m1B+bFS86PT6QFppx6oeSaeOwlMXRp1h4aK13Y2kuHhUo9ykPboPvFjeEvsrhTMt3ylHyB0r8KZyYdCrbfj4OveoHMANjuyx+76rV+/blxKMZUnLgAAAABJRU5ErkJggg==\"></button>\n",
       "    <button onclick=\"animHXWWDGKUTLWCBEII.previous_frame()\"><img class=\"anim_icon\" src=\"data:image/png;base64,iVBORw0KGgoAAAANSUhEUgAAABQAAAAUCAQAAAAngNWGAAAAAXNSR0IArs4c6QAAAAJiS0dEAP+Hj8y/AAAACXBIWXMAAAsTAAALEwEAmpwYAAAAB3RJTUUH3QURCAgyTCyQ6wAAANRJREFUKM9jYBjO4AiUfgzFGGAp4+yayUvX6jMwMDCsYmBgOCS4OAOrSYmMgcc8/pd5Q3irC+Neh/1AlmeBMVgZmP8yMLD8/c/cqv9r90whzv/MX7Eq/MfAwMDIwCuZdfSV8U8WDgZGRmYGrAoZGRgY/jO8b3sj/J2F6T8j4z80pzEhmIwMjAxsSbqqlkeZGP//Z8SlkJnhPwMjwx/Guoe1NhmRwk+YGH5jV8jOwMPHzcDBysAwh8FrxQwtPU99HrwBXsnAwMDAsJiBgYGBoZ1xmKYqALHhMpn1o7igAAAAAElFTkSuQmCC\"></button>\n",
       "    <button onclick=\"animHXWWDGKUTLWCBEII.reverse_animation()\"><img class=\"anim_icon\" src=\"data:image/png;base64,iVBORw0KGgoAAAANSUhEUgAAABQAAAAUCAQAAAAngNWGAAAAAXNSR0IArs4c6QAAAAJiS0dEAP+Hj8y/AAAACXBIWXMAAAsTAAALEwEAmpwYAAAAB3RJTUUH3QURCAgmVvZElgAAAVFJREFUKM+t0k8ow3EYx/H3s/2aLDUSZctFkgsHEi1XLi5ukpPSWsuJklwclsPSsDKFi7MSJ0I5qF2GHO2m0FY7+BdNv7Y9DpuxDSt5vsfvq+fT9/k+8D8VBxIAWH6H0ead4Qb5BRwCENoceZi5Stl/6BgCBmtWhjzxg4mUQ02rAhil7JgB9tze7aTLxFAKsUUd14B9ZzCyFUk401gQyQJaDNcBHwv7t7ETd0ZVQFEEzcNCdE/1wtj15imGWlEB8qkf2QaAWjbG/bPSamIDyX65/iwDIFx7tWjUvWCoSo5oGbYATN7PORt7W9IZEQXJH8ohuN7C0VVX91KNqYhq4a1lEGJI0j892tazXCWQRUpwAbYDcHczPxXuajq3mbnhfANz5eOJxsuNvs7+jud0UcuyL3QAkuEMx4rnIvBYq1JhEwPAUb3fG7x8tVdc292/7Po7f2VqA+Yz7ZwAAAAASUVORK5CYII=\"></button>\n",
       "    <button onclick=\"animHXWWDGKUTLWCBEII.pause_animation()\"><img class=\"anim_icon\" src=\"data:image/png;base64,iVBORw0KGgoAAAANSUhEUgAAABQAAAAUCAQAAAAngNWGAAAAAXNSR0IArs4c6QAAAAJiS0dEAP+Hj8y/AAAACXBIWXMAAAsTAAALEwEAmpwYAAAAB3RJTUUH3QURCAkR91DQ2AAAAKtJREFUKM9jYCANTEVib2K4jcRbzQihGWEC00JuNjN8Z2Q0Zo3VYWA4lL005venH9+c3ZK5IfIsMIXMBtc12Bj+MMgxMDAwMPzWe2TBzPCf4SLcZCYY4/9/RgZGBiaYFf8gljFhKiQERhUOeoX/Gf8y/GX4y/APmlj+Mfxj+MfwH64Qnnq0zr9fyfLrPzP3eQYGBobvk5x4GX4xMIij23gdib0cRWYHiVmAAQDK5ircshCbHQAAAABJRU5ErkJggg==\"></button>\n",
       "    <button onclick=\"animHXWWDGKUTLWCBEII.play_animation()\"><img class=\"anim_icon\" src=\"data:image/png;base64,iVBORw0KGgoAAAANSUhEUgAAABQAAAAUCAQAAAAngNWGAAAAAXNSR0IArs4c6QAAAAJiS0dEAP+Hj8y/AAAACXBIWXMAAAsTAAALEwEAmpwYAAAAB3RJTUUH3QURCAkEmo00MwAAAS9JREFUKM+tkj1IQmEUhp9j94LQj0FD4RRBLdLQ3ftb26PRcCiQIIiIDFwKC0OhaAiam5wVDBpqCKohQojMLYzaAiUatOtpuQrKVQl64fu+4Xt4OLwc+Fs+nNM16jsPAWS6gZXggoZfXmfhog3hcZ6aTXF87Sp68OmH4/YggAo8bmfyyeh6Z1AAKPVldyO1+Iz2uILq3AriJSe3l+H7aj+cuRnrTsVDxSxay+VYbMDnCtZxxQOU9G4nlU9E1HQBxRkCQMRGRnIbpxMARkvxCIoAorYMMrq0mJ0qu4COUW3xyVDqJC4P+86P0ewDQbQqgevhlc2C8ETApXAEFLzvwa3EXG9BoIE1GQUbv1h7k4fTXxBu6cKgUbX5M3ZzNC+a7rQ936HV56SlRpcle+Mf8wvgJ16zo/4BtQAAAABJRU5ErkJggg==\"></button>\n",
       "    <button onclick=\"animHXWWDGKUTLWCBEII.next_frame()\"><img class=\"anim_icon\" src=\"data:image/png;base64,iVBORw0KGgoAAAANSUhEUgAAABQAAAAUCAQAAAAngNWGAAAAAXNSR0IArs4c6QAAAAJiS0dEAP+Hj8y/AAAACXBIWXMAAAsTAAALEwEAmpwYAAAAB3RJTUUH3QURCAkd/uac8wAAAMhJREFUKM9jYBie4DEUQ8B+fEq3+3UrMzAwMFxjYGBgYJizYubaOUxYFUaXh/6vWfRfEMIL/+//P5gZJoei4/f/7wxnY1PeNUXdE2RgYGZgYoCrY2BBVsjKwMDAwvCS4f3SG/dXxm5gYESSQ1HIwvCPgZmB8f8Pxv+Kxxb/YfiPJIdi9T8GJgaG/38ZFd4Fx0xUYsZt4h8GBgb2D2bLy7KnMTAwMEIxFoVCXIYr1IoDnkF4XAysqNIwUMDAwMDAsADKS2NkGL4AAIARMlfNIfZMAAAAAElFTkSuQmCC\"></button>\n",
       "    <button onclick=\"animHXWWDGKUTLWCBEII.last_frame()\"><img class=\"anim_icon\" src=\"data:image/png;base64,iVBORw0KGgoAAAANSUhEUgAAABQAAAAUCAQAAAAngNWGAAAAAXNSR0IArs4c6QAAAAJiS0dEAP+Hj8y/AAAACXBIWXMAAAsTAAALEwEAmpwYAAAAB3RJTUUH3QURCAknOOpFQQAAAS9JREFUKM/dkrEvQ3EQxz/33mtoQxiYpANbLU26NAabSCcSUouGBVNDjYQaOiDpIEiKjURIw2Kx04hEYmkHEpGoJpSISaXq9Wd4P03/ht5y98197/u9XA4aK4rAWw3lgWddZ3S+/G9mEovtAB8AHE4pgTQAx8PbJweRmsq6GimmNpxaNYXVzMNNCI6A2figimwCGACK786zuWgh3qcsKf/w0pM4X0m/doNVFVzVGlEQsdRj193VxEWpH0RsdRu+zi3tVMqCAsDShoiYqiSV4OouVDFEqS9Pbiyg7vV62lpQ2BJ4Gg0meg0MbNpkYG/e+540NNFyrE1a8qHk5BaAjfnrzUaHfAWImVrLIXbgnx4/9X06s35cweWsVACa3a24PVp0X+rPv1aHFnSONdiL8Qci0lzwpOM5sQAAAABJRU5ErkJggg==\"></button>\n",
       "    <button onclick=\"animHXWWDGKUTLWCBEII.faster()\">+</button>\n",
       "  <form action=\"#n\" name=\"_anim_loop_selectHXWWDGKUTLWCBEII\" class=\"anim_control\">\n",
       "    <input type=\"radio\" name=\"state\" value=\"once\" checked> Once </input>\n",
       "    <input type=\"radio\" name=\"state\" value=\"loop\" > Loop </input>\n",
       "    <input type=\"radio\" name=\"state\" value=\"reflect\" > Reflect </input>\n",
       "  </form>\n",
       "</div>\n",
       "\n",
       "\n",
       "<script language=\"javascript\">\n",
       "  /* Instantiate the Animation class. */\n",
       "  /* The IDs given should match those used in the template above. */\n",
       "  (function() {\n",
       "    var img_id = \"_anim_imgHXWWDGKUTLWCBEII\";\n",
       "    var slider_id = \"_anim_sliderHXWWDGKUTLWCBEII\";\n",
       "    var loop_select_id = \"_anim_loop_selectHXWWDGKUTLWCBEII\";\n",
       "    var frames = new Array(0);\n",
       "    \n",
       "  frames[0] = \"data:image/png;base64,iVBORw0KGgoAAAANSUhEUgAAAWgAAAFoCAYAAAB65WHVAAAABHNCSVQICAgIfAhkiAAAAAlwSFlzAAALEgAACxIB0t1+/AAAADl0RVh0U29mdHdhcmUAbWF0cGxvdGxpYiB2ZXJzaW9uIDMuMC4yLCBodHRwOi8vbWF0cGxvdGxpYi5vcmcvOIA7rQAABQxJREFUeJzt1KEBwCAQwMCnkv33hQXqibibICprz5wBIOd7HQDAP4MGiDJogCiDBogyaIAogwaIMmiAKIMGiDJogCiDBogyaIAogwaIMmiAKIMGiDJogCiDBogyaIAogwaIMmiAKIMGiDJogCiDBogyaIAogwaIMmiAKIMGiDJogCiDBogyaIAogwaIMmiAKIMGiDJogCiDBogyaIAogwaIMmiAKIMGiDJogCiDBogyaIAogwaIMmiAKIMGiDJogCiDBogyaIAogwaIMmiAKIMGiDJogCiDBogyaIAogwaIMmiAKIMGiDJogCiDBogyaIAogwaIMmiAKIMGiDJogCiDBogyaIAogwaIMmiAKIMGiDJogCiDBogyaIAogwaIMmiAKIMGiDJogCiDBogyaIAogwaIMmiAKIMGiDJogCiDBogyaIAogwaIMmiAKIMGiDJogCiDBogyaIAogwaIMmiAKIMGiDJogCiDBogyaIAogwaIMmiAKIMGiDJogCiDBogyaIAogwaIMmiAKIMGiDJogCiDBogyaIAogwaIMmiAKIMGiDJogCiDBogyaIAogwaIMmiAKIMGiDJogCiDBogyaIAogwaIMmiAKIMGiDJogCiDBogyaIAogwaIMmiAKIMGiDJogCiDBogyaIAogwaIMmiAKIMGiDJogCiDBogyaIAogwaIMmiAKIMGiDJogCiDBogyaIAogwaIMmiAKIMGiDJogCiDBogyaIAogwaIMmiAKIMGiDJogCiDBogyaIAogwaIMmiAKIMGiDJogCiDBogyaIAogwaIMmiAKIMGiDJogCiDBogyaIAogwaIMmiAKIMGiDJogCiDBogyaIAogwaIMmiAKIMGiDJogCiDBogyaIAogwaIMmiAKIMGiDJogCiDBogyaIAogwaIMmiAKIMGiDJogCiDBogyaIAogwaIMmiAKIMGiDJogCiDBogyaIAogwaIMmiAKIMGiDJogCiDBogyaIAogwaIMmiAKIMGiDJogCiDBogyaIAogwaIMmiAKIMGiDJogCiDBogyaIAogwaIMmiAKIMGiDJogCiDBogyaIAogwaIMmiAKIMGiDJogCiDBogyaIAogwaIMmiAKIMGiDJogCiDBogyaIAogwaIMmiAKIMGiDJogCiDBogyaIAogwaIMmiAKIMGiDJogCiDBogyaIAogwaIMmiAKIMGiDJogCiDBogyaIAogwaIMmiAKIMGiDJogCiDBogyaIAogwaIMmiAKIMGiDJogCiDBogyaIAogwaIMmiAKIMGiDJogCiDBogyaIAogwaIMmiAKIMGiDJogCiDBogyaIAogwaIMmiAKIMGiDJogCiDBogyaIAogwaIMmiAKIMGiDJogCiDBogyaIAogwaIMmiAKIMGiDJogCiDBogyaIAogwaIMmiAKIMGiDJogCiDBogyaIAogwaIMmiAKIMGiDJogCiDBogyaIAogwaIMmiAKIMGiDJogCiDBogyaIAogwaIMmiAKIMGiDJogCiDBogyaIAogwaIMmiAKIMGiDJogCiDBogyaIAogwaIMmiAKIMGiDJogCiDBogyaIAogwaIMmiAKIMGiDJogCiDBogyaIAogwaIMmiAKIMGiDJogCiDBogyaIAogwaIMmiAKIMGiDJogCiDBogyaIAogwaIMmiAKIMGiDJogCiDBogyaIAogwaIMmiAKIMGiDJogCiDBogyaICoC1CuA9kPNaIDAAAAAElFTkSuQmCC\"\n",
       "  frames[1] = \"data:image/png;base64,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\"\n",
       "  frames[2] = \"data:image/png;base64,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\"\n",
       "  frames[3] = \"data:image/png;base64,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\"\n",
       "  frames[4] = \"data:image/png;base64,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\"\n",
       "  frames[5] = \"data:image/png;base64,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\"\n",
       "  frames[6] = \"data:image/png;base64,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\"\n",
       "  frames[7] = \"data:image/png;base64,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\"\n",
       "  frames[8] = \"data:image/png;base64,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\"\n",
       "  frames[9] = \"data:image/png;base64,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\"\n",
       "\n",
       "\n",
       "    /* set a timeout to make sure all the above elements are created before\n",
       "       the object is initialized. */\n",
       "    setTimeout(function() {\n",
       "        animHXWWDGKUTLWCBEII = new Animation(frames, img_id, slider_id, 50, loop_select_id);\n",
       "    }, 0);\n",
       "  })()\n",
       "</script>\n"
      ],
      "text/plain": [
       "<IPython.core.display.HTML object>"
      ]
     },
     "execution_count": 7,
     "metadata": {},
     "output_type": "execute_result"
    }
   ],
   "source": [
    "gr, c, cw, g, t, a = slime(start_pop=400, board_size=170, frames=1000, max_hp=8, mutation_rate=20, log=False);gr"
   ]
  },
  {
   "cell_type": "code",
   "execution_count": 8,
   "metadata": {},
   "outputs": [
    {
     "data": {
      "text/plain": [
       "[<matplotlib.lines.Line2D at 0x11c22b6d8>]"
      ]
     },
     "execution_count": 8,
     "metadata": {},
     "output_type": "execute_result"
    },
    {
     "data": {
      "image/png": "[encoded data removed]",
      "text/plain": [
       "<Figure size 432x288 with 1 Axes>"
      ]
     },
     "metadata": {
      "needs_background": "light"
     },
     "output_type": "display_data"
    }
   ],
   "source": [
    "# Growth\n",
    "plt.plot(t[:,0],t[:,1])"
   ]
  },
  {
   "cell_type": "code",
   "execution_count": 9,
   "metadata": {},
   "outputs": [
    {
     "data": {
      "text/plain": [
       "[<matplotlib.lines.Line2D at 0x11c2a25c0>]"
      ]
     },
     "execution_count": 9,
     "metadata": {},
     "output_type": "execute_result"
    },
    {
     "data": {
      "image/png": "[encoded data removed]",
      "text/plain": [
       "<Figure size 432x288 with 1 Axes>"
      ]
     },
     "metadata": {
      "needs_background": "light"
     },
     "output_type": "display_data"
    }
   ],
   "source": [
    "# Birth\n",
    "plt.plot(t[:,0],t[:,2])"
   ]
  },
  {
   "cell_type": "code",
   "execution_count": 10,
   "metadata": {},
   "outputs": [
    {
     "data": {
      "text/plain": [
       "[<matplotlib.lines.Line2D at 0x118f710f0>]"
      ]
     },
     "execution_count": 10,
     "metadata": {},
     "output_type": "execute_result"
    },
    {
     "data": {
      "image/png": "[encoded data removed]",
      "text/plain": [
       "<Figure size 432x288 with 1 Axes>"
      ]
     },
     "metadata": {
      "needs_background": "light"
     },
     "output_type": "display_data"
    }
   ],
   "source": [
    "# Injuries\n",
    "plt.plot(t[:,0],t[:,3])"
   ]
  },
  {
   "cell_type": "code",
   "execution_count": 11,
   "metadata": {},
   "outputs": [
    {
     "data": {
      "text/plain": [
       "[<matplotlib.lines.Line2D at 0x11c31bf60>]"
      ]
     },
     "execution_count": 11,
     "metadata": {},
     "output_type": "execute_result"
    },
    {
     "data": {
      "image/png": "[encoded data removed]",
      "text/plain": [
       "<Figure size 432x288 with 1 Axes>"
      ]
     },
     "metadata": {
      "needs_background": "light"
     },
     "output_type": "display_data"
    }
   ],
   "source": [
    "# Deaths\n",
    "plt.plot(t[:,0],t[:,4])"
   ]
  },
  {
   "cell_type": "code",
   "execution_count": 12,
   "metadata": {},
   "outputs": [
    {
     "data": {
      "text/plain": [
       "[<matplotlib.lines.Line2D at 0x11c36dfd0>]"
      ]
     },
     "execution_count": 12,
     "metadata": {},
     "output_type": "execute_result"
    },
    {
     "data": {
      "image/png": "[encoded data removed]",
      "text/plain": [
       "<Figure size 432x288 with 1 Axes>"
      ]
     },
     "metadata": {
      "needs_background": "light"
     },
     "output_type": "display_data"
    }
   ],
   "source": [
    "# Births-Deaths\n",
    "plt.plot(t[:,0],100+t[:,2]-t[:,4])"
   ]
  },
  {
   "cell_type": "code",
   "execution_count": 13,
   "metadata": {},
   "outputs": [
    {
     "data": {
      "text/plain": [
       "[<matplotlib.lines.Line2D at 0x11c3c5940>]"
      ]
     },
     "execution_count": 13,
     "metadata": {},
     "output_type": "execute_result"
    },
    {
     "data": {
      "image/png": "[encoded data removed]",
      "text/plain": [
       "<Figure size 432x288 with 1 Axes>"
      ]
     },
     "metadata": {
      "needs_background": "light"
     },
     "output_type": "display_data"
    }
   ],
   "source": [
    "# Pop\n",
    "plt.plot(t[:,0],t[:,5])"
   ]
  },
  {
   "cell_type": "code",
   "execution_count": 14,
   "metadata": {},
   "outputs": [
    {
     "data": {
      "text/plain": [
       "array([[  1,  34,   0,  23,   0, 400],\n",
       "       [  2,  35,   0,  36,   4, 396],\n",
       "       [  3,  30,   1,  47,   7, 390],\n",
       "       [  4,  44,   0,  37,   9, 381],\n",
       "       [  5,  28,   0,  41,  10, 371],\n",
       "       [  6,  30,   2,  39,  13, 360],\n",
       "       [  7,  29,   3,  31,  10, 353],\n",
       "       [  8,  28,   3,  30,  10, 346],\n",
       "       [  9,  29,   6,  32,  10, 342],\n",
       "       [ 10,  20,   3,  25,   4, 341]])"
      ]
     },
     "execution_count": 14,
     "metadata": {},
     "output_type": "execute_result"
    }
   ],
   "source": [
    "# Summary\n",
    "t"
   ]
  },
  {
   "cell_type": "code",
   "execution_count": 15,
   "metadata": {
    "scrolled": true
   },
   "outputs": [
    {
     "data": {
      "text/plain": [
       "'Name: \\nType: Graph\\nNumber of nodes: 418\\nNumber of edges: 18\\nAverage degree:   0.0861'"
      ]
     },
     "execution_count": 15,
     "metadata": {},
     "output_type": "execute_result"
    }
   ],
   "source": [
    "nx.info(g)"
   ]
  },
  {
   "cell_type": "code",
   "execution_count": 16,
   "metadata": {},
   "outputs": [],
   "source": [
    "#import dill\n",
    "#dill.dump_session('notebook_env.db')"
   ]
  },
  {
   "cell_type": "code",
   "execution_count": 17,
   "metadata": {},
   "outputs": [],
   "source": [
    "#import dill\n",
    "#dill.load_session('notebook_env.db')"
   ]
  }
 ],
 "metadata": {
  "kernelspec": {
   "display_name": "Python 3",
   "language": "python",
   "name": "python3"
  },
  "language_info": {
   "codemirror_mode": {
    "name": "ipython",
    "version": 3
   },
   "file_extension": ".py",
   "mimetype": "text/x-python",
   "name": "python",
   "nbconvert_exporter": "python",
   "pygments_lexer": "ipython3",
   "version": "3.6.5"
  }
 },
 "nbformat": 4,
 "nbformat_minor": 2
}
