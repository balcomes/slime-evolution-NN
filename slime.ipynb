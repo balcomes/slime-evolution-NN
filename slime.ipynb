{
 "cells": [
  {
   "cell_type": "code",
   "execution_count": null,
   "metadata": {},
   "outputs": [],
   "source": [
    "%matplotlib notebook\n",
    "import numpy as np\n",
    "import matplotlib.pyplot as plt\n",
    "from itertools import permutations\n",
    "from collections import defaultdict\n",
    "import random"
   ]
  },
  {
   "cell_type": "code",
   "execution_count": null,
   "metadata": {},
   "outputs": [],
   "source": [
    "def sig_func(x,y):\n",
    "    return(1/(1+np.exp(-(np.dot(x,y)))))"
   ]
  },
  {
   "cell_type": "code",
   "execution_count": null,
   "metadata": {},
   "outputs": [],
   "source": [
    "global board_size\n",
    "board_size = 100"
   ]
  },
  {
   "cell_type": "code",
   "execution_count": null,
   "metadata": {},
   "outputs": [],
   "source": [
    "# Funtion to build the initial cell list.  NN is built around sight/input of 5, movement/output of 3.\n",
    "def cell_list():\n",
    "    start_coords = np.random.choice(range(3,46),board_size)\n",
    "    cells  = defaultdict(dict)\n",
    "    \n",
    "    for i in range(0,board_size,2):\n",
    "        name = str(random.getrandbits(128))\n",
    "        cells[name] = {}\n",
    "        \n",
    "        coords = [start_coords[i],start_coords[i+1]]\n",
    "        disc_weights = 2*np.random.random((5*5,3*3))-1\n",
    "        \n",
    "        cells[name]['size'] = 3\n",
    "        cells[name]['coords'] = coords\n",
    "        cells[name]['disc_weights'] = disc_weights\n",
    "\n",
    "    return(cells)"
   ]
  },
  {
   "cell_type": "code",
   "execution_count": null,
   "metadata": {},
   "outputs": [],
   "source": [
    "# Create the cell list.\n",
    "cells = cell_list()"
   ]
  },
  {
   "cell_type": "code",
   "execution_count": null,
   "metadata": {},
   "outputs": [],
   "source": [
    "# Create the board.\n",
    "X = np.zeros(shape=(board_size,board_size))"
   ]
  },
  {
   "cell_type": "code",
   "execution_count": null,
   "metadata": {},
   "outputs": [],
   "source": [
    "# Get the coodinates for the input.\n",
    "L = [0, 0, 1, 1, -1, -1, 2, 2, -2, -2]\n",
    "keep = [0,0]\n",
    "for comb in permutations(L, r=2):\n",
    "    keep = np.vstack((keep, comb))"
   ]
  },
  {
   "cell_type": "code",
   "execution_count": null,
   "metadata": {
    "scrolled": false
   },
   "outputs": [],
   "source": [
    "# Setup plotting.\n",
    "fig = plt.figure(figsize=(10, 10))\n",
    "ax = fig.add_axes([0, 0, 1, 1], xticks=[], yticks=[], frameon=False)\n",
    "fig.show()\n",
    "fig.canvas.draw()    \n",
    "\n",
    "# Run indefinately.\n",
    "while(True):\n",
    "    \n",
    "    # Plotting.\n",
    "    ax.clear()\n",
    "    \n",
    "    # Take turns through the cell list.\n",
    "    for i in list(cells):\n",
    "\n",
    "        # Input.\n",
    "        test_in = []\n",
    "        for perm in np.mod(cells[i]['coords'] + np.unique(keep,axis=0), board_size):\n",
    "            test_in = np.append(test_in,X[perm[0],perm[1]])\n",
    "            \n",
    "        # Output.\n",
    "        test_out = sig_func(test_in,cells[i]['disc_weights'])\n",
    "        d = test_out.argmin()\n",
    "\n",
    "        # Enviroment logic:\n",
    "        \n",
    "        # Stay and Grow.\n",
    "        if(d==4):               \n",
    "            if(cells[i]['size'] < 6):\n",
    "                cells[i]['size'] += 1\n",
    "                print(\"{0} grew to size {1}.\".format(i, cells[i]['size']))\n",
    "                \n",
    "        # Move.\n",
    "        else:\n",
    "            if(d==0):\n",
    "                new_coord = [-1,1]\n",
    "            if(d==1):\n",
    "                new_coord = [0,1]\n",
    "            if(d==2):\n",
    "                new_coord = [1,1]\n",
    "            if(d==3):\n",
    "                new_coord = [-1,0]\n",
    "\n",
    "            if(d==5):\n",
    "                new_coord = [1,0]\n",
    "            if(d==6):\n",
    "                new_coord = [-1,-1]\n",
    "            if(d==7):\n",
    "                new_coord = [0,-1]\n",
    "            if(d==8):\n",
    "                new_coord = [1,-1]\n",
    "            \n",
    "            # Split.\n",
    "            if(cells[i]['size'] > 5):\n",
    "                \n",
    "                # Half its size.\n",
    "                cells[i]['size'] = 3\n",
    "                \n",
    "                # Give the baby attributes and mutate the NN.\n",
    "                baby_name = str(random.getrandbits(128))\n",
    "                cells[baby_name]['size'] = cells[i]['size']\n",
    "                cells[baby_name]['coords'] = cells[i]['coords']\n",
    "                cells[baby_name]['disc_weights'] = cells[i]['disc_weights']\n",
    "                cells[baby_name]['disc_weights'][np.random.choice(5*5),np.random.choice(3*3)] == 2*np.random.random(1)-1\n",
    "                \n",
    "                print(\"{0} underwent mitosis.  Gave birth to {1}.\".format(i, baby_name))\n",
    "            \n",
    "            # If it moved.\n",
    "            if(X[np.mod(np.add(cells[i]['coords'] , new_coord), board_size)[0],np.mod(np.add(cells[i]['coords'] , new_coord), board_size)[1]] == 0):\n",
    "                \n",
    "                # Clear where it was.\n",
    "                X[cells[i]['coords'][0],cells[i]['coords'][1]] = 0\n",
    "                \n",
    "                # Give new coordinate and fill it in.\n",
    "                cells[i]['coords'] = np.mod(np.add(cells[i]['coords'] , new_coord), board_size)\n",
    "                X[cells[i]['coords'][0],cells[i]['coords'][1]] = abs(sum(sum(cells[i]['disc_weights'])))\n",
    "                \n",
    "            else:\n",
    "                # It gets bumped.\n",
    "                cells[i]['size'] -= 1\n",
    "                print(\"{0} was injured to size {1}!\".format(i, cells[i]['size']))\n",
    "                \n",
    "                # Handle death.\n",
    "                if(cells[i]['size'] < 1):\n",
    "                    try:\n",
    "                        # Clear where it was and delete from list.\n",
    "                        X[cells[i]['coords'][0],cells[i]['coords'][1]] = 0\n",
    "                        del cells[i]\n",
    "                        print(\"{0} died!.\".format(i))\n",
    "                    except KeyError:\n",
    "                        pass\n",
    "                    \n",
    "    # Draw heatmap.\n",
    "    ax.matshow(X, cmap = 'magma')\n",
    "    fig.canvas.draw()"
   ]
  }
 ],
 "metadata": {
  "kernelspec": {
   "display_name": "Python 3",
   "language": "python",
   "name": "python3"
  },
  "language_info": {
   "codemirror_mode": {
    "name": "ipython",
    "version": 3
   },
   "file_extension": ".py",
   "mimetype": "text/x-python",
   "name": "python",
   "nbconvert_exporter": "python",
   "pygments_lexer": "ipython3",
   "version": "3.6.5"
  }
 },
 "nbformat": 4,
 "nbformat_minor": 2
}
